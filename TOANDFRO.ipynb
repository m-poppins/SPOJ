{
  "nbformat": 4,
  "nbformat_minor": 0,
  "metadata": {
    "colab": {
      "name": "TOANDFRO.ipynb",
      "provenance": [],
      "collapsed_sections": [],
      "authorship_tag": "ABX9TyPecwNRipns7MOIhJKuT5hw",
      "include_colab_link": true
    },
    "kernelspec": {
      "name": "python3",
      "display_name": "Python 3"
    }
  },
  "cells": [
    {
      "cell_type": "markdown",
      "metadata": {
        "id": "view-in-github",
        "colab_type": "text"
      },
      "source": [
        "<a href=\"https://colab.research.google.com/github/m-poppins/SPOJ/blob/master/TOANDFRO.ipynb\" target=\"_parent\"><img src=\"https://colab.research.google.com/assets/colab-badge.svg\" alt=\"Open In Colab\"/></a>"
      ]
    },
    {
      "cell_type": "code",
      "metadata": {
        "id": "iDpfeSlP1zrq",
        "colab_type": "code",
        "colab": {
          "base_uri": "https://localhost:8080/",
          "height": 84
        },
        "outputId": "692deff8-8764-487d-a4fe-c73b999fdef4"
      },
      "source": [
        "import numpy as np\n",
        "\n",
        "while True:\n",
        "    cols = int(input())\n",
        "    if cols is 0:\n",
        "        break\n",
        "    m = np.array(list(input()))\n",
        "    l=m.shape[0]\n",
        "    rows=int(l/cols)\n",
        "    m2=np.reshape(m,(rows,cols))\n",
        "\n",
        "    for i in range(1,rows,2):\n",
        "      m2[i] = np.flipud(m2[i])\n",
        "      \n",
        "    result=np.reshape(m2.transpose(),(l,))\n",
        "    print (''.join(result))"
      ],
      "execution_count": 27,
      "outputs": [
        {
          "output_type": "stream",
          "text": [
            "3\n",
            "ttyohhieneesiaabss\n",
            "thisistheeasyoneab\n",
            "0\n"
          ],
          "name": "stdout"
        }
      ]
    },
    {
      "cell_type": "code",
      "metadata": {
        "id": "7fYgc3KI7hn5",
        "colab_type": "code",
        "colab": {}
      },
      "source": [
        ""
      ],
      "execution_count": null,
      "outputs": []
    }
  ]
}