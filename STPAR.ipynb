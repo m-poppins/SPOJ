{
  "nbformat": 4,
  "nbformat_minor": 0,
  "metadata": {
    "colab": {
      "name": " STPAR.ipynb",
      "provenance": [],
      "collapsed_sections": [],
      "authorship_tag": "ABX9TyO9z92soCTv8I82734Ca3Vb",
      "include_colab_link": true
    },
    "kernelspec": {
      "name": "python3",
      "display_name": "Python 3"
    }
  },
  "cells": [
    {
      "cell_type": "markdown",
      "metadata": {
        "id": "view-in-github",
        "colab_type": "text"
      },
      "source": [
        "<a href=\"https://colab.research.google.com/github/m-poppins/SPOJ/blob/master/STPAR.ipynb\" target=\"_parent\"><img src=\"https://colab.research.google.com/assets/colab-badge.svg\" alt=\"Open In Colab\"/></a>"
      ]
    },
    {
      "cell_type": "code",
      "metadata": {
        "id": "9pl0VyDgqcx4",
        "colab_type": "code",
        "colab": {
          "base_uri": "https://localhost:8080/",
          "height": 235
        },
        "outputId": "a34b5aa3-fd65-47a9-e19c-27c4dd07125c"
      },
      "source": [
        "while True:\n",
        "    n = int(input())\n",
        "    if n == 0:\n",
        "        break\n",
        "    l = [int(x) for x in input().split()] #cчитали\n",
        "\n",
        "    side = []\n",
        "    result = []\n",
        "    s = 1\n",
        "\n",
        "    while True:\n",
        "        if len(l) > 0: #на дороге\n",
        "            if l[0] == s:\n",
        "                result.append(l.pop(0))\n",
        "                s += 1\n",
        "            elif len(side) > 0 and side[-1] == s:\n",
        "                result.append(side.pop())\n",
        "                s += 1\n",
        "            else:\n",
        "                side.append(l.pop(0))\n",
        "        elif len(side) > 0:  #если есть в стороне\n",
        "            w = side.pop()\n",
        "            if w == s:\n",
        "                result.append(w)\n",
        "                s += 1\n",
        "            else:\n",
        "                print('no')\n",
        "                break\n",
        "        else:\n",
        "            print('yes')\n",
        "            break"
      ],
      "execution_count": 11,
      "outputs": [
        {
          "output_type": "stream",
          "text": [
            "10\n",
            "6 1 5 2 7 3 4 10 8 9\n",
            "no\n",
            "5\n",
            "1 3 4 2 5\n",
            "no\n",
            "4\n",
            "4 2 3 1\n",
            "no\n",
            "10\n",
            "1 2 10 5 4 3 9 8 7 6\n",
            "yes\n",
            "0\n"
          ],
          "name": "stdout"
        }
      ]
    }
  ]
}